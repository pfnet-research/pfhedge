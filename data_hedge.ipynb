{
 "cells": [
  {
   "cell_type": "code",
   "execution_count": 9,
   "metadata": {},
   "outputs": [],
   "source": [
    "import torch\n",
    "import numpy as np\n",
    "import matplotlib.pyplot as plt\n",
    "from math import ceil\n",
    "from pfhedge.nn import Hedger\n",
    "from pfhedge.nn import BlackScholes\n",
    "from pfhedge.instruments import BrownianStock\n",
    "\n",
    "from pfhedge.instruments import EuropeanOption\n",
    "from pfhedge.nn.modules.mlp import MultiLayerPerceptron\n",
    "import pfhedge.nn.modules.datahedger as datahedger\n",
    "from pfhedge.nn.modules.loss import ExpectedShortfall\n",
    "from importlib import reload\n",
    "reload(datahedger)\n",
    "\n",
    "def to_numpy(tensor: torch.Tensor) -> np.array:\n",
    "    return tensor.cpu().detach().numpy()\n",
    "\n",
    "def plot_pnl(pnl):\n",
    "    plt.figure()\n",
    "    plt.hist(to_numpy(pnl), bins=100)\n",
    "    \n",
    "    plt.title(\"Profit-loss histograms of 50000 price paths for a European option\")\n",
    "    plt.xlabel(\"Profit-loss\")\n",
    "    plt.ylabel(\"Number of events\")\n",
    "    plt.grid()\n",
    "    plt.show()\n"
   ]
  },
  {
   "cell_type": "markdown",
   "metadata": {},
   "source": [
    "### Single trading asset"
   ]
  },
  {
   "cell_type": "code",
   "execution_count": 10,
   "metadata": {},
   "outputs": [],
   "source": [
    "N_EPOCHS = 200\n",
    "N_PATHS = 50000\n",
    "\n",
    "s0 = 1.\n",
    "dt = 1/365\n",
    "maturity = 30/365\n",
    "time_steps = ceil(maturity / dt)\n",
    "\n",
    "derivative = EuropeanOption(BrownianStock(dt=dt), strike = s0, maturity=maturity)\n",
    "derivative.simulate(N_PATHS, init_state= s0)\n",
    "\n",
    "prices = derivative.underlier.spot[...,None]\n",
    "payoff = derivative.payoff_fn()[:,None]\n",
    "\n",
    "time_to_maturity = torch.linspace(maturity, 0, time_steps + 1)\n",
    "time_to_maturity = torch.tile(time_to_maturity, [N_PATHS,1])[...,None]\n",
    "\n",
    "information = torch.cat([\n",
    "    torch.log(prices),\n",
    "    time_to_maturity\n",
    "    ], axis = -1)\n",
    "\n",
    "n_asset = prices.shape[-1]\n",
    "data_set = [prices, information, payoff]\n",
    "dataset_market = datahedger.MarketDataset(data_set)\n"
   ]
  },
  {
   "cell_type": "code",
   "execution_count": 11,
   "metadata": {},
   "outputs": [
    {
     "data": {
      "text/plain": [
       "tensor(0.0228)"
      ]
     },
     "execution_count": 11,
     "metadata": {},
     "output_type": "execute_result"
    }
   ],
   "source": [
    "model = BlackScholes(derivative)\n",
    "hedger = Hedger(model, inputs=model.inputs())\n",
    "hedger.price(derivative, init_state=s0)\n"
   ]
  },
  {
   "cell_type": "markdown",
   "metadata": {},
   "source": [
    "### Data Hedger"
   ]
  },
  {
   "cell_type": "code",
   "execution_count": 12,
   "metadata": {},
   "outputs": [
    {
     "name": "stderr",
     "output_type": "stream",
     "text": [
      "Loss=0.023119883611798286: 100%|██████████| 10/10 [00:05<00:00,  1.83it/s]\n"
     ]
    }
   ],
   "source": [
    "model = MultiLayerPerceptron(out_features = n_asset)\n",
    "hedger = datahedger.DataHedger(model, dataset_market) \n",
    "hedger.fit(10)     "
   ]
  },
  {
   "cell_type": "code",
   "execution_count": 13,
   "metadata": {},
   "outputs": [
    {
     "data": {
      "image/png": "[encoded data removed]",
      "text/plain": [
       "<Figure size 432x288 with 1 Axes>"
      ]
     },
     "metadata": {
      "needs_background": "light"
     },
     "output_type": "display_data"
    },
    {
     "name": "stdout",
     "output_type": "stream",
     "text": [
      "Option price is  [0.02369387]\n"
     ]
    }
   ],
   "source": [
    "pnl = hedger.compute_pnl(data_set)\n",
    "price = to_numpy(hedger.pricer())\n",
    "plot_pnl(pnl)\n",
    "print('Option price is ', price)\n"
   ]
  },
  {
   "cell_type": "markdown",
   "metadata": {},
   "source": [
    "### Deep Hedger"
   ]
  },
  {
   "cell_type": "code",
   "execution_count": 14,
   "metadata": {},
   "outputs": [
    {
     "name": "stderr",
     "output_type": "stream",
     "text": [
      "Loss=0.02341233380138874: 100%|██████████| 100/100 [00:52<00:00,  1.89it/s]\n"
     ]
    }
   ],
   "source": [
    "# models = [MultiLayerPerceptron(out_features = n_asset) for t in range(time_steps)]\n",
    "# hedger = datahedger.DeepHedger(models, dataset_market, ExpectedShortfall()) \n",
    "hedger.fit(100)  "
   ]
  },
  {
   "cell_type": "code",
   "execution_count": 15,
   "metadata": {},
   "outputs": [
    {
     "data": {
      "image/png": "[encoded data removed]",
      "text/plain": [
       "<Figure size 432x288 with 1 Axes>"
      ]
     },
     "metadata": {
      "needs_background": "light"
     },
     "output_type": "display_data"
    },
    {
     "name": "stdout",
     "output_type": "stream",
     "text": [
      "Option price is  [0.02369387]\n"
     ]
    }
   ],
   "source": [
    "pnl = hedger.compute_pnl(data_set)\n",
    "price = to_numpy(hedger.pricer())\n",
    "plot_pnl(pnl)\n",
    "print('Option price is ', price)\n"
   ]
  },
  {
   "cell_type": "markdown",
   "metadata": {},
   "source": [
    "### Heston Model"
   ]
  },
  {
   "cell_type": "code",
   "execution_count": 27,
   "metadata": {},
   "outputs": [],
   "source": [
    "from pfhedge.instruments import EuropeanOption\n",
    "from pfhedge.instruments import HestonStock\n",
    "from pfhedge.instruments import VarianceSwap\n",
    "from pfhedge.nn import MultiLayerPerceptron\n",
    "\n",
    "kappa = 1.\n",
    "theta = 0.04\n",
    "sigma = 2.\n",
    "rho = -0.7\n",
    "v0 = 0.04\n",
    "s0 = 100.\n",
    "init_state = (s0,v0)\n",
    "\n",
    "dt = 1/365\n",
    "maturity = 30/365\n",
    "\n",
    "N_EPOCHS = 200\n",
    "N_PATHS = 50000\n",
    "\n",
    "derivative = EuropeanOption(HestonStock(kappa = kappa, theta = theta, sigma = sigma, rho = rho, dt = dt), strike = s0, maturity=maturity)\n",
    "stock = derivative.underlier\n",
    "derivative.simulate(N_PATHS, init_state=init_state)\n",
    "\n",
    "time_steps = ceil(maturity / dt)\n",
    "time_to_maturity = torch.linspace(maturity, 0, time_steps + 1)\n",
    "time_to_maturity = torch.tile(time_to_maturity, [N_PATHS,1])[...,None]\n",
    "\n",
    "payoff = derivative.payoff_fn()[:,None]\n",
    "varswap = VarianceSwap(stock, strike = 0.0)\n",
    "prices_heston = stock.spot[...,None]\n",
    "variance_heston = stock.variance[...,None]\n",
    "\n",
    "L_func = lambda tau,v: (v-theta) / kappa * (1-(-kappa*(tau)).exp()) + theta*tau\n",
    "prices_varswap = torch.cumsum(variance_heston,dim=-1) * stock.dt + L_func(time_to_maturity, variance_heston)\n",
    "\n",
    "prices = torch.Tensor(torch.cat([prices_heston, prices_varswap],axis = -1))\n",
    "n_asset = prices.shape[-1]\n",
    "\n",
    "information = torch.cat([\n",
    "    torch.log(prices_heston),\n",
    "    variance_heston,\n",
    "    time_to_maturity\n",
    "    ], axis = -1)\n",
    "\n",
    "data_set = [prices, information, payoff]\n",
    "\n",
    "dataset_market = datahedger.MarketDataset(data_set)\n"
   ]
  },
  {
   "cell_type": "markdown",
   "metadata": {},
   "source": [
    "### Data hedge"
   ]
  },
  {
   "cell_type": "code",
   "execution_count": 17,
   "metadata": {},
   "outputs": [
    {
     "name": "stderr",
     "output_type": "stream",
     "text": [
      "Loss=9.167202949523926: 100%|██████████| 100/100 [01:05<00:00,  1.52it/s]\n"
     ]
    }
   ],
   "source": [
    "model = MultiLayerPerceptron(out_features = n_asset)\n",
    "hedger = datahedger.DataHedger(model, dataset_market) \n",
    "hedger.fit(100)     "
   ]
  },
  {
   "cell_type": "code",
   "execution_count": 18,
   "metadata": {},
   "outputs": [
    {
     "data": {
      "image/png": "[encoded data removed]",
      "text/plain": [
       "<Figure size 432x288 with 1 Axes>"
      ]
     },
     "metadata": {
      "needs_background": "light"
     },
     "output_type": "display_data"
    },
    {
     "name": "stdout",
     "output_type": "stream",
     "text": [
      "Option price is  [10.188822]\n"
     ]
    }
   ],
   "source": [
    "pnl = hedger.compute_pnl(data_set)\n",
    "price = to_numpy(hedger.pricer())\n",
    "plot_pnl(pnl)\n",
    "print('Option price is ', price)    "
   ]
  },
  {
   "cell_type": "markdown",
   "metadata": {},
   "source": [
    "### Deep hedger"
   ]
  },
  {
   "cell_type": "code",
   "execution_count": 1,
   "metadata": {},
   "outputs": [
    {
     "ename": "NameError",
     "evalue": "name 'n_asset' is not defined",
     "output_type": "error",
     "traceback": [
      "\u001b[0;31m---------------------------------------------------------------------------\u001b[0m",
      "\u001b[0;31mNameError\u001b[0m                                 Traceback (most recent call last)",
      "\u001b[0;32m/var/folders/gq/bts52kyn0v72cpz5c5489984006lvv/T/ipykernel_58664/4261318504.py\u001b[0m in \u001b[0;36m<cell line: 1>\u001b[0;34m()\u001b[0m\n\u001b[0;32m----> 1\u001b[0;31m \u001b[0md\u001b[0m \u001b[0;34m=\u001b[0m \u001b[0mn_asset\u001b[0m\u001b[0;34m\u001b[0m\u001b[0;34m\u001b[0m\u001b[0m\n\u001b[0m\u001b[1;32m      2\u001b[0m \u001b[0mmodels\u001b[0m \u001b[0;34m=\u001b[0m \u001b[0;34m[\u001b[0m\u001b[0mMultiLayerPerceptron\u001b[0m\u001b[0;34m(\u001b[0m\u001b[0mlayer\u001b[0m \u001b[0;34m=\u001b[0m \u001b[0;36m2\u001b[0m\u001b[0;34m,\u001b[0m \u001b[0munits\u001b[0m \u001b[0;34m=\u001b[0m \u001b[0;34m(\u001b[0m\u001b[0md\u001b[0m\u001b[0;34m+\u001b[0m\u001b[0;36m15\u001b[0m\u001b[0;34m,\u001b[0m\u001b[0md\u001b[0m\u001b[0;34m+\u001b[0m\u001b[0;36m15\u001b[0m\u001b[0;34m)\u001b[0m\u001b[0;34m,\u001b[0m \u001b[0mout_features\u001b[0m \u001b[0;34m=\u001b[0m \u001b[0md\u001b[0m\u001b[0;34m)\u001b[0m \u001b[0;32mfor\u001b[0m \u001b[0mt\u001b[0m \u001b[0;32min\u001b[0m \u001b[0mrange\u001b[0m\u001b[0;34m(\u001b[0m\u001b[0mtime_steps\u001b[0m\u001b[0;34m)\u001b[0m\u001b[0;34m]\u001b[0m\u001b[0;34m\u001b[0m\u001b[0;34m\u001b[0m\u001b[0m\n\u001b[1;32m      3\u001b[0m \u001b[0mhedger\u001b[0m \u001b[0;34m=\u001b[0m \u001b[0mdatahedger\u001b[0m\u001b[0;34m.\u001b[0m\u001b[0mDeepHedger\u001b[0m\u001b[0;34m(\u001b[0m\u001b[0mmodels\u001b[0m\u001b[0;34m,\u001b[0m \u001b[0mdataset_market\u001b[0m\u001b[0;34m,\u001b[0m \u001b[0mExpectedShortfall\u001b[0m\u001b[0;34m(\u001b[0m\u001b[0mp\u001b[0m \u001b[0;34m=\u001b[0m \u001b[0;36m0.5\u001b[0m\u001b[0;34m)\u001b[0m\u001b[0;34m)\u001b[0m\u001b[0;34m\u001b[0m\u001b[0;34m\u001b[0m\u001b[0m\n\u001b[1;32m      4\u001b[0m \u001b[0mhedger\u001b[0m\u001b[0;34m.\u001b[0m\u001b[0mfit\u001b[0m\u001b[0;34m(\u001b[0m\u001b[0;36m100\u001b[0m\u001b[0;34m)\u001b[0m\u001b[0;34m\u001b[0m\u001b[0;34m\u001b[0m\u001b[0m\n",
      "\u001b[0;31mNameError\u001b[0m: name 'n_asset' is not defined"
     ]
    }
   ],
   "source": [
    "d = n_asset\n",
    "models = [MultiLayerPerceptron(layer = 2, units = (d+15,d+15), out_features = d) for t in range(time_steps)]\n",
    "hedger = datahedger.DeepHedger(models, dataset_market, ExpectedShortfall(p = 0.5)) \n",
    "hedger.fit(100)  \n"
   ]
  },
  {
   "cell_type": "code",
   "execution_count": 20,
   "metadata": {},
   "outputs": [
    {
     "data": {
      "image/png": "[encoded data removed]",
      "text/plain": [
       "<Figure size 432x288 with 1 Axes>"
      ]
     },
     "metadata": {
      "needs_background": "light"
     },
     "output_type": "display_data"
    },
    {
     "name": "stdout",
     "output_type": "stream",
     "text": [
      "Option price is  [2.7613318]\n"
     ]
    }
   ],
   "source": [
    "pnl = hedger.compute_pnl(data_set)\n",
    "price = to_numpy(hedger.pricer())\n",
    "plot_pnl(pnl)\n",
    "print('Option price is ', price)    "
   ]
  }
 ],
 "metadata": {
  "interpreter": {
   "hash": "c186b54c8cf1ccf367fb8bdf3e071efe85839a5daed090332edb040d14e1fa50"
  },
  "kernelspec": {
   "display_name": "Python 3.8.12 ('env_torch')",
   "language": "python",
   "name": "python3"
  },
  "language_info": {
   "codemirror_mode": {
    "name": "ipython",
    "version": 3
   },
   "file_extension": ".py",
   "mimetype": "text/x-python",
   "name": "python",
   "nbconvert_exporter": "python",
   "pygments_lexer": "ipython3",
   "version": "3.8.12"
  },
  "orig_nbformat": 4
 },
 "nbformat": 4,
 "nbformat_minor": 2
}
